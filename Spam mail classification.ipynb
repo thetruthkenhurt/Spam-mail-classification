{
 "cells": [
  {
   "cell_type": "code",
   "execution_count": 13,
   "id": "78ef509d-c517-4ff0-a250-4f64433906b3",
   "metadata": {},
   "outputs": [
    {
     "name": "stdout",
     "output_type": "stream",
     "text": [
      "C:\\Users\\Ken\\Documents\\Code Projects\\Spam Call Classification\\src\n"
     ]
    }
   ],
   "source": [
    "#this notebook depicts the use of 3 different ML models to classify spam mails as not-spam '0' or spam '1'.\n",
    "#the dataset is obtained publicly from https://archive.ics.uci.edu/dataset/94/spambase\n",
    "import os\n",
    "\n",
    "# Change the current working directory to the script's directory\n",
    "os.chdir(r'C:\\Users\\Ken\\Documents\\Code Projects\\Spam Call Classification\\src')\n",
    "\n",
    "# Verify the current working directory\n",
    "print(os.getcwd())"
   ]
  },
  {
   "cell_type": "code",
   "execution_count": 14,
   "id": "8528fee3-f4b0-4cfb-bc8c-c8715908a07c",
   "metadata": {},
   "outputs": [
    {
     "name": "stdout",
     "output_type": "stream",
     "text": [
      "Logistic Regression Results:\n",
      "              precision    recall  f1-score   support\n",
      "\n",
      "           0       0.92      0.95      0.93       531\n",
      "           1       0.93      0.88      0.91       390\n",
      "\n",
      "    accuracy                           0.92       921\n",
      "   macro avg       0.92      0.92      0.92       921\n",
      "weighted avg       0.92      0.92      0.92       921\n",
      "\n",
      "Confusion Matrix:\n",
      " [[505  26]\n",
      " [ 46 344]]\n",
      "\n",
      "Random Forest Results:\n",
      "              precision    recall  f1-score   support\n",
      "\n",
      "           0       0.94      0.98      0.96       531\n",
      "           1       0.97      0.92      0.94       390\n",
      "\n",
      "    accuracy                           0.95       921\n",
      "   macro avg       0.96      0.95      0.95       921\n",
      "weighted avg       0.96      0.95      0.95       921\n",
      "\n",
      "Confusion Matrix:\n",
      " [[521  10]\n",
      " [ 32 358]]\n",
      "\n",
      "XGBoost Results:\n",
      "              precision    recall  f1-score   support\n",
      "\n",
      "           0       0.95      0.98      0.96       531\n",
      "           1       0.97      0.94      0.95       390\n",
      "\n",
      "    accuracy                           0.96       921\n",
      "   macro avg       0.96      0.96      0.96       921\n",
      "weighted avg       0.96      0.96      0.96       921\n",
      "\n",
      "Confusion Matrix:\n",
      " [[518  13]\n",
      " [ 25 365]]\n"
     ]
    }
   ],
   "source": [
    "#use of python scripts to train models on data and perform prediction\n",
    "!python main.py --use_public_data"
   ]
  },
  {
   "cell_type": "code",
   "execution_count": null,
   "id": "4985f142-f361-44ad-a134-d1ebaf44ce3d",
   "metadata": {},
   "outputs": [],
   "source": []
  }
 ],
 "metadata": {
  "kernelspec": {
   "display_name": "Python 3 (ipykernel)",
   "language": "python",
   "name": "python3"
  },
  "language_info": {
   "codemirror_mode": {
    "name": "ipython",
    "version": 3
   },
   "file_extension": ".py",
   "mimetype": "text/x-python",
   "name": "python",
   "nbconvert_exporter": "python",
   "pygments_lexer": "ipython3",
   "version": "3.12.2"
  }
 },
 "nbformat": 4,
 "nbformat_minor": 5
}
